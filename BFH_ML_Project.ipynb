{
  "nbformat": 4,
  "nbformat_minor": 0,
  "metadata": {
    "colab": {
      "name": "BFH ML Project.ipynb",
      "provenance": [],
      "collapsed_sections": [],
      "include_colab_link": true
    },
    "kernelspec": {
      "name": "python3",
      "display_name": "Python 3"
    },
    "language_info": {
      "name": "python"
    }
  },
  "cells": [
    {
      "cell_type": "markdown",
      "metadata": {
        "id": "view-in-github",
        "colab_type": "text"
      },
      "source": [
        "<a href=\"https://colab.research.google.com/github/DiaFathima/DHS/blob/main/BFH_ML_Project.ipynb\" target=\"_parent\"><img src=\"https://colab.research.google.com/assets/colab-badge.svg\" alt=\"Open In Colab\"/></a>"
      ]
    },
    {
      "cell_type": "markdown",
      "metadata": {
        "id": "vYPAvd83s6Ib"
      },
      "source": [
        "start = time.time()\n",
        "image_data = []\n",
        "image_target = []\n",
        "\n",
        "for title in files:\n",
        "    os.chdir(adress.format(title))\n",
        "    counter = 0\n",
        "    for i in data[title]:\n",
        "        img = cv2.imread(i)\n",
        "        image_data.append(cv2.resize(img,(width, height)))\n",
        "        image_target.append(title)\n",
        "        counter += 1\n",
        "        if counter == sample_size:\n",
        "            break\n",
        "    clear_output(wait=True)\n",
        "    print(\"Compiled Class\",title)\n",
        "calculate_time = time.time() - start    \n",
        "print(\"Calculate Time\",round(calculate_time,5))"
      ]
    },
    {
      "cell_type": "code",
      "metadata": {
        "id": "Ty_K_U-vapji"
      },
      "source": [
        "import pandas as pd\n",
        "import numpy as np\n",
        "import matplotlib.pyplot as plt\n",
        "import cv2\n",
        "import time\n",
        "import os\n",
        "from IPython.display import clear_output"
      ],
      "execution_count": null,
      "outputs": []
    },
    {
      "cell_type": "code",
      "metadata": {
        "id": "C5AorGixa4Qu"
      },
      "source": [
        "import tensorflow as tf\n",
        "\n",
        "from tensorflow.keras import datasets, layers, models"
      ],
      "execution_count": null,
      "outputs": []
    },
    {
      "cell_type": "code",
      "metadata": {
        "id": "itm_Yt5XpzoG"
      },
      "source": [
        "from sklearn.preprocessing import LabelEncoder"
      ],
      "execution_count": null,
      "outputs": []
    },
    {
      "cell_type": "code",
      "metadata": {
        "id": "Ig-594OKrELr"
      },
      "source": [
        "sample_size = 200\n",
        "width = 50\n",
        "height = 50"
      ],
      "execution_count": null,
      "outputs": []
    },
    {
      "cell_type": "code",
      "metadata": {
        "id": "ZZfSjmlsrHvG"
      },
      "source": [
        "files = []\n",
        "adress = '/kaggle/input/fruits/fruits-360/Training/{}'\n",
        "os.chdir('/kaggle/input/fruits/fruits-360/Training')\n",
        "for i in os.listdir(os.getcwd()):\n",
        "    files.append(i)"
      ],
      "execution_count": null,
      "outputs": []
    },
    {
      "cell_type": "code",
      "metadata": {
        "id": "6LF5gLqcrWSn"
      },
      "source": [
        "data = {}\n",
        "for f in files:\n",
        "    data[f]=[]\n",
        "for col in files:\n",
        "    os.chdir(adress.format(col))\n",
        "    for i in os.listdir(os.getcwd()):\n",
        "        if i.endswith('.jpg'):\n",
        "            data[col].append(i)"
      ],
      "execution_count": null,
      "outputs": []
    },
    {
      "cell_type": "code",
      "metadata": {
        "id": "756ZgYlzrlGu"
      },
      "source": [
        "start = time.time()\n",
        "image_data = []\n",
        "image_target = []\n",
        "\n",
        "for title in files:\n",
        "    os.chdir(adress.format(title))\n",
        "    counter = 0\n",
        "    for i in data[title]:\n",
        "        img = cv2.imread(i)\n",
        "        image_data.append(cv2.resize(img,(width, height)))\n",
        "        image_target.append(title)\n",
        "        counter += 1\n",
        "        if counter == sample_size:\n",
        "            break\n",
        "    clear_output(wait=True)\n",
        "    print(\"Compiled Class\",title)\n",
        "calculate_time = time.time() - start    \n",
        "print(\"Calculate Time\",round(calculate_time,5))"
      ],
      "execution_count": null,
      "outputs": []
    }
  ]
}